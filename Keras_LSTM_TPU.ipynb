{
  "nbformat": 4,
  "nbformat_minor": 0,
  "metadata": {
    "colab": {
      "name": "Copy of Keras_LSTM_TPU.ipynb",
      "version": "0.3.2",
      "provenance": [],
      "collapsed_sections": [],
      "include_colab_link": true
    },
    "kernelspec": {
      "name": "python3",
      "display_name": "Python 3"
    },
    "accelerator": "TPU"
  },
  "cells": [
    {
      "cell_type": "markdown",
      "metadata": {
        "id": "view-in-github",
        "colab_type": "text"
      },
      "source": [
        "<a href=\"https://colab.research.google.com/github/atsnguyen/keras/blob/master/Keras_LSTM_TPU.ipynb\" target=\"_parent\"><img src=\"https://colab.research.google.com/assets/colab-badge.svg\" alt=\"Open In Colab\"/></a>"
      ]
    },
    {
      "metadata": {
        "id": "CB43mV-TD1vb",
        "colab_type": "text"
      },
      "cell_type": "markdown",
      "source": [
        "#  Tutorial - [How to train Keras model x20 times faster with TPU for free](https://www.dlology.com/blog/how-to-train-keras-model-x20-times-faster-with-tpu-for-free/)"
      ]
    },
    {
      "metadata": {
        "id": "ya06BE0ZU526",
        "colab_type": "code",
        "colab": {}
      },
      "cell_type": "code",
      "source": [
        "import tensorflow as tf\n",
        "from tensorflow.keras.datasets import imdb\n",
        "from tensorflow.keras.preprocessing import sequence\n",
        "from tensorflow.python.keras.layers import Input, LSTM, Bidirectional, Dense, Embedding"
      ],
      "execution_count": 0,
      "outputs": []
    },
    {
      "metadata": {
        "id": "_uSZchXTVOHr",
        "colab_type": "code",
        "outputId": "de5a94f2-a822-4e96-9bc2-069da06701e1",
        "colab": {
          "base_uri": "https://localhost:8080/",
          "height": 50
        }
      },
      "cell_type": "code",
      "source": [
        "\n",
        "# Number of words to consider as features\n",
        "max_features = 10000\n",
        "# Cut texts after this number of words (among top max_features most common words)\n",
        "maxlen = 500\n",
        "\n",
        "# Load data\n",
        "(x_train, y_train), (x_test, y_test) = imdb.load_data(num_words=max_features)\n",
        "\n",
        "# Reverse sequences\n",
        "x_train = [x[::-1] for x in x_train]\n",
        "x_test = [x[::-1] for x in x_test]\n",
        "\n",
        "# Pad sequences\n",
        "x_train = sequence.pad_sequences(x_train, maxlen=maxlen)\n",
        "x_test = sequence.pad_sequences(x_test, maxlen=maxlen)"
      ],
      "execution_count": 0,
      "outputs": [
        {
          "output_type": "stream",
          "text": [
            "Downloading data from https://storage.googleapis.com/tensorflow/tf-keras-datasets/imdb.npz\n",
            "17465344/17464789 [==============================] - 1s 0us/step\n"
          ],
          "name": "stdout"
        }
      ]
    },
    {
      "metadata": {
        "id": "p35nSfjbVVBE",
        "colab_type": "code",
        "colab": {}
      },
      "cell_type": "code",
      "source": [
        "def make_model(batch_size=None):\n",
        "  source = Input(shape=(maxlen,), batch_size=batch_size, dtype=tf.int32, name='Input')\n",
        "  embedding = Embedding(input_dim=max_features, output_dim=128, name='Embedding')(source)\n",
        "  # lstm = Bidirectional(LSTM(32, name = 'LSTM'), name='Bidirectional')(embedding)\n",
        "  lstm = LSTM(32, name = 'LSTM')(embedding)\n",
        "  predicted_var = Dense(1, activation='sigmoid', name='Output')(lstm)\n",
        "  model = tf.keras.Model(inputs=[source], outputs=[predicted_var])\n",
        "  model.compile(\n",
        "      optimizer=tf.train.RMSPropOptimizer(learning_rate=0.01),\n",
        "      loss='binary_crossentropy',\n",
        "      metrics=['acc'])\n",
        "  return model\n",
        "   "
      ],
      "execution_count": 0,
      "outputs": []
    },
    {
      "metadata": {
        "id": "bivVZS0jZhxg",
        "colab_type": "code",
        "outputId": "a98416b8-0cc5-40f3-8ab9-4a414d8ff265",
        "colab": {
          "base_uri": "https://localhost:8080/",
          "height": 269
        }
      },
      "cell_type": "code",
      "source": [
        "tf.keras.backend.clear_session()\n",
        "training_model = make_model(batch_size = 128)\n",
        "training_model.summary()"
      ],
      "execution_count": 0,
      "outputs": [
        {
          "output_type": "stream",
          "text": [
            "_________________________________________________________________\n",
            "Layer (type)                 Output Shape              Param #   \n",
            "=================================================================\n",
            "Input (InputLayer)           (128, 500)                0         \n",
            "_________________________________________________________________\n",
            "Embedding (Embedding)        (128, 500, 128)           1280000   \n",
            "_________________________________________________________________\n",
            "LSTM (LSTM)                  (128, 32)                 20608     \n",
            "_________________________________________________________________\n",
            "Output (Dense)               (128, 1)                  33        \n",
            "=================================================================\n",
            "Total params: 1,300,641\n",
            "Trainable params: 1,300,641\n",
            "Non-trainable params: 0\n",
            "_________________________________________________________________\n"
          ],
          "name": "stdout"
        }
      ]
    },
    {
      "metadata": {
        "id": "xeGmIQX2aJvw",
        "colab_type": "code",
        "outputId": "8ca0e700-0196-4805-f71a-889abf78e169",
        "colab": {
          "base_uri": "https://localhost:8080/",
          "height": 591
        }
      },
      "cell_type": "code",
      "source": [
        "import os\n",
        "# This address identifies the TPU we'll use when configuring TensorFlow.\n",
        "TPU_WORKER = 'grpc://' + os.environ['COLAB_TPU_ADDR']\n",
        "tf.logging.set_verbosity(tf.logging.INFO)\n",
        "\n",
        "tpu_model = tf.contrib.tpu.keras_to_tpu_model(\n",
        "    training_model,\n",
        "    strategy=tf.contrib.tpu.TPUDistributionStrategy(\n",
        "        tf.contrib.cluster_resolver.TPUClusterResolver(TPU_WORKER)))\n",
        "\n",
        "tpu_model.summary()"
      ],
      "execution_count": 0,
      "outputs": [
        {
          "output_type": "stream",
          "text": [
            "INFO:tensorflow:Querying Tensorflow master (b'grpc://10.71.48.186:8470') for TPU system metadata.\n",
            "INFO:tensorflow:Found TPU system:\n",
            "INFO:tensorflow:*** Num TPU Cores: 8\n",
            "INFO:tensorflow:*** Num TPU Workers: 1\n",
            "INFO:tensorflow:*** Num TPU Cores Per Worker: 8\n",
            "INFO:tensorflow:*** Available Device: _DeviceAttributes(/job:worker/replica:0/task:0/device:CPU:0, CPU, -1, 12962847472719255583)\n",
            "INFO:tensorflow:*** Available Device: _DeviceAttributes(/job:worker/replica:0/task:0/device:XLA_CPU:0, XLA_CPU, 17179869184, 3699436137438131455)\n",
            "INFO:tensorflow:*** Available Device: _DeviceAttributes(/job:worker/replica:0/task:0/device:XLA_GPU:0, XLA_GPU, 17179869184, 14159038353310475772)\n",
            "INFO:tensorflow:*** Available Device: _DeviceAttributes(/job:worker/replica:0/task:0/device:TPU:0, TPU, 17179869184, 192720367906206866)\n",
            "INFO:tensorflow:*** Available Device: _DeviceAttributes(/job:worker/replica:0/task:0/device:TPU:1, TPU, 17179869184, 4093111992693799831)\n",
            "INFO:tensorflow:*** Available Device: _DeviceAttributes(/job:worker/replica:0/task:0/device:TPU:2, TPU, 17179869184, 4665522520274501952)\n",
            "INFO:tensorflow:*** Available Device: _DeviceAttributes(/job:worker/replica:0/task:0/device:TPU:3, TPU, 17179869184, 13132825014342259307)\n",
            "INFO:tensorflow:*** Available Device: _DeviceAttributes(/job:worker/replica:0/task:0/device:TPU:4, TPU, 17179869184, 3486754972164976854)\n",
            "INFO:tensorflow:*** Available Device: _DeviceAttributes(/job:worker/replica:0/task:0/device:TPU:5, TPU, 17179869184, 1817247902430943556)\n",
            "INFO:tensorflow:*** Available Device: _DeviceAttributes(/job:worker/replica:0/task:0/device:TPU:6, TPU, 17179869184, 13838882103640529641)\n",
            "INFO:tensorflow:*** Available Device: _DeviceAttributes(/job:worker/replica:0/task:0/device:TPU:7, TPU, 17179869184, 4061901152700507310)\n",
            "INFO:tensorflow:*** Available Device: _DeviceAttributes(/job:worker/replica:0/task:0/device:TPU_SYSTEM:0, TPU_SYSTEM, 17179869184, 15171437533573010886)\n",
            "WARNING:tensorflow:tpu_model (from tensorflow.contrib.tpu.python.tpu.keras_support) is experimental and may change or be removed at any time, and without warning.\n",
            "_________________________________________________________________\n",
            "Layer (type)                 Output Shape              Param #   \n",
            "=================================================================\n",
            "Input (InputLayer)           (128, 500)                0         \n",
            "_________________________________________________________________\n",
            "Embedding (Embedding)        (128, 500, 128)           1280000   \n",
            "_________________________________________________________________\n",
            "LSTM (LSTM)                  (128, 32)                 20608     \n",
            "_________________________________________________________________\n",
            "Output (Dense)               (128, 1)                  33        \n",
            "=================================================================\n",
            "Total params: 1,300,641\n",
            "Trainable params: 1,300,641\n",
            "Non-trainable params: 0\n",
            "_________________________________________________________________\n"
          ],
          "name": "stdout"
        }
      ]
    },
    {
      "metadata": {
        "id": "XlSm1vd5bteH",
        "colab_type": "code",
        "outputId": "44920788-79f0-475e-cd33-46765107b5dc",
        "colab": {
          "base_uri": "https://localhost:8080/",
          "height": 1112
        }
      },
      "cell_type": "code",
      "source": [
        "import time\n",
        "start_time = time.time()\n",
        "\n",
        "history = tpu_model.fit(x_train, y_train,\n",
        "                    epochs=20,\n",
        "                    batch_size=128 * 8,\n",
        "                    validation_split=0.2)\n",
        "tpu_model.save_weights('./tpu_model.h5', overwrite=True)\n",
        "\n",
        "print(\"--- %s seconds ---\" % (time.time() - start_time))\n"
      ],
      "execution_count": 0,
      "outputs": [
        {
          "output_type": "stream",
          "text": [
            "Train on 25000 samples, validate on 5000 samples\n",
            "Epoch 1/20\n",
            "INFO:tensorflow:New input shapes; (re-)compiling: mode=train (# of cores 8), [TensorSpec(shape=(128,), dtype=tf.int32, name='core_id0'), TensorSpec(shape=(128, 500), dtype=tf.int32, name='Input_10'), TensorSpec(shape=(128, 1), dtype=tf.float32, name='Output_target_30')]\n",
            "INFO:tensorflow:Overriding default placeholder.\n",
            "INFO:tensorflow:Remapping placeholder for Input\n",
            "INFO:tensorflow:Started compiling\n",
            "INFO:tensorflow:Finished compiling. Time elapsed: 2.6951334476470947 secs\n",
            "INFO:tensorflow:Setting weights on TPU model.\n",
            "23552/25000 [===========================>..] - ETA: 0s - loss: 0.6931 - acc: 0.5005INFO:tensorflow:New input shapes; (re-)compiling: mode=train (# of cores 8), [TensorSpec(shape=(53,), dtype=tf.int32, name='core_id0'), TensorSpec(shape=(53, 500), dtype=tf.int32, name='Input_10'), TensorSpec(shape=(53, 1), dtype=tf.float32, name='Output_target_30')]\n",
            "INFO:tensorflow:Overriding default placeholder.\n",
            "INFO:tensorflow:Remapping placeholder for Input\n",
            "INFO:tensorflow:Started compiling\n",
            "INFO:tensorflow:Finished compiling. Time elapsed: 3.610853433609009 secs\n",
            "24576/25000 [============================>.] - ETA: 0s - loss: 0.6931 - acc: 0.5000INFO:tensorflow:New input shapes; (re-)compiling: mode=eval (# of cores 8), [TensorSpec(shape=(128,), dtype=tf.int32, name='core_id_10'), TensorSpec(shape=(128, 500), dtype=tf.int32, name='Input_10'), TensorSpec(shape=(128, 1), dtype=tf.float32, name='Output_target_30')]\n",
            "INFO:tensorflow:Overriding default placeholder.\n",
            "INFO:tensorflow:Remapping placeholder for Input\n",
            "INFO:tensorflow:Started compiling\n",
            "INFO:tensorflow:Finished compiling. Time elapsed: 4.176751613616943 secs\n",
            "INFO:tensorflow:New input shapes; (re-)compiling: mode=eval (# of cores 8), [TensorSpec(shape=(113,), dtype=tf.int32, name='core_id_10'), TensorSpec(shape=(113, 500), dtype=tf.int32, name='Input_10'), TensorSpec(shape=(113, 1), dtype=tf.float32, name='Output_target_30')]\n",
            "INFO:tensorflow:Overriding default placeholder.\n",
            "INFO:tensorflow:Remapping placeholder for Input\n",
            "INFO:tensorflow:Started compiling\n",
            "INFO:tensorflow:Finished compiling. Time elapsed: 5.3430495262146 secs\n",
            "25000/25000 [==============================] - 34s 1ms/step - loss: 0.6931 - acc: 0.5003 - val_loss: 0.6932 - val_acc: 0.4924\n",
            "Epoch 2/20\n",
            "25000/25000 [==============================] - 3s 130us/step - loss: 0.6931 - acc: 0.5048 - val_loss: 0.6933 - val_acc: 0.4918\n",
            "Epoch 3/20\n",
            "25000/25000 [==============================] - 3s 128us/step - loss: 0.6931 - acc: 0.5042 - val_loss: 0.6932 - val_acc: 0.4986\n",
            "Epoch 4/20\n",
            "25000/25000 [==============================] - 3s 127us/step - loss: 0.6929 - acc: 0.5117 - val_loss: 0.6947 - val_acc: 0.4938\n",
            "Epoch 5/20\n",
            "25000/25000 [==============================] - 3s 130us/step - loss: 0.6920 - acc: 0.5222 - val_loss: 0.6893 - val_acc: 0.5498\n",
            "Epoch 6/20\n",
            "25000/25000 [==============================] - 3s 129us/step - loss: 0.6980 - acc: 0.5589 - val_loss: 0.6740 - val_acc: 0.5840\n",
            "Epoch 7/20\n",
            "25000/25000 [==============================] - 3s 130us/step - loss: 0.6819 - acc: 0.6132 - val_loss: 0.6423 - val_acc: 0.6782\n",
            "Epoch 8/20\n",
            "25000/25000 [==============================] - 3s 129us/step - loss: 0.6256 - acc: 0.6794 - val_loss: 0.4907 - val_acc: 0.7916\n",
            "Epoch 9/20\n",
            "25000/25000 [==============================] - 3s 128us/step - loss: 0.5379 - acc: 0.7522 - val_loss: 0.4254 - val_acc: 0.8194\n",
            "Epoch 10/20\n",
            "25000/25000 [==============================] - 3s 128us/step - loss: 0.4658 - acc: 0.7954 - val_loss: 0.3707 - val_acc: 0.8592\n",
            "Epoch 11/20\n",
            "25000/25000 [==============================] - 3s 129us/step - loss: 0.4069 - acc: 0.8286 - val_loss: 0.3324 - val_acc: 0.8692\n",
            "Epoch 12/20\n",
            "25000/25000 [==============================] - 3s 128us/step - loss: 0.3472 - acc: 0.8587 - val_loss: 0.2477 - val_acc: 0.9056\n",
            "Epoch 13/20\n",
            "25000/25000 [==============================] - 3s 131us/step - loss: 0.2897 - acc: 0.8896 - val_loss: 0.2112 - val_acc: 0.9274\n",
            "Epoch 14/20\n",
            "25000/25000 [==============================] - 3s 129us/step - loss: 0.2340 - acc: 0.9120 - val_loss: 0.1630 - val_acc: 0.9380\n",
            "Epoch 15/20\n",
            "25000/25000 [==============================] - 3s 130us/step - loss: 0.2064 - acc: 0.9202 - val_loss: 0.1570 - val_acc: 0.9356\n",
            "Epoch 16/20\n",
            "25000/25000 [==============================] - 3s 131us/step - loss: 0.1693 - acc: 0.9360 - val_loss: 0.0995 - val_acc: 0.9658\n",
            "Epoch 17/20\n",
            "25000/25000 [==============================] - 3s 128us/step - loss: 0.1365 - acc: 0.9500 - val_loss: 0.1624 - val_acc: 0.9354\n",
            "Epoch 18/20\n",
            "25000/25000 [==============================] - 3s 130us/step - loss: 0.1082 - acc: 0.9625 - val_loss: 0.1004 - val_acc: 0.9688\n",
            "Epoch 19/20\n",
            "25000/25000 [==============================] - 3s 128us/step - loss: 0.1001 - acc: 0.9663 - val_loss: 0.0416 - val_acc: 0.9886\n",
            "Epoch 20/20\n",
            "25000/25000 [==============================] - 3s 130us/step - loss: 0.0698 - acc: 0.9759 - val_loss: 0.0304 - val_acc: 0.9916\n",
            "INFO:tensorflow:Copying TPU weights to the CPU\n",
            "--- 99.37162923812866 seconds ---\n"
          ],
          "name": "stdout"
        }
      ]
    },
    {
      "metadata": {
        "id": "tLjeqllMZzv5",
        "colab_type": "code",
        "colab": {}
      },
      "cell_type": "code",
      "source": [
        "# history = tpu_model.fit(x_train, y_train,\n",
        "#                     epochs=20,\n",
        "#                     batch_size=128 * 8,\n",
        "#                     validation_split=0.2)\n",
        "# tpu_model.save_weights('./tpu_model.h5', overwrite=True)"
      ],
      "execution_count": 0,
      "outputs": []
    },
    {
      "metadata": {
        "id": "gpcLs6PYatf5",
        "colab_type": "code",
        "outputId": "ba01cca0-2b90-4810-df4a-ba560226eb87",
        "colab": {
          "base_uri": "https://localhost:8080/",
          "height": 269
        }
      },
      "cell_type": "code",
      "source": [
        "inferencing_model = make_model(batch_size=None)\n",
        "inferencing_model.load_weights('./tpu_model.h5')\n",
        "inferencing_model.summary()"
      ],
      "execution_count": 0,
      "outputs": [
        {
          "output_type": "stream",
          "text": [
            "_________________________________________________________________\n",
            "Layer (type)                 Output Shape              Param #   \n",
            "=================================================================\n",
            "Input (InputLayer)           (None, 500)               0         \n",
            "_________________________________________________________________\n",
            "Embedding (Embedding)        (None, 500, 128)          1280000   \n",
            "_________________________________________________________________\n",
            "LSTM (LSTM)                  (None, 32)                20608     \n",
            "_________________________________________________________________\n",
            "Output (Dense)               (None, 1)                 33        \n",
            "=================================================================\n",
            "Total params: 1,300,641\n",
            "Trainable params: 1,300,641\n",
            "Non-trainable params: 0\n",
            "_________________________________________________________________\n"
          ],
          "name": "stdout"
        }
      ]
    },
    {
      "metadata": {
        "id": "2cqqkN84dJQk",
        "colab_type": "code",
        "outputId": "b0b6184e-999c-4b4b-f893-1a8e42cab63c",
        "colab": {
          "base_uri": "https://localhost:8080/",
          "height": 50
        }
      },
      "cell_type": "code",
      "source": [
        "inferencing_model.evaluate(x_test, y_test)"
      ],
      "execution_count": 0,
      "outputs": [
        {
          "output_type": "stream",
          "text": [
            "25000/25000 [==============================] - 70s 3ms/step\n"
          ],
          "name": "stdout"
        },
        {
          "output_type": "execute_result",
          "data": {
            "text/plain": [
              "[0.6991784410524369, 0.8184]"
            ]
          },
          "metadata": {
            "tags": []
          },
          "execution_count": 10
        }
      ]
    },
    {
      "metadata": {
        "id": "XMR_TncEeFKx",
        "colab_type": "code",
        "outputId": "90c4841e-fa0a-40ce-8f2e-31c18bb99814",
        "colab": {
          "base_uri": "https://localhost:8080/",
          "height": 154
        }
      },
      "cell_type": "code",
      "source": [
        "tpu_model.evaluate(x_test, y_test, batch_size=128 * 8)"
      ],
      "execution_count": 0,
      "outputs": [
        {
          "output_type": "stream",
          "text": [
            "23552/25000 [===========================>..] - ETA: 0sINFO:tensorflow:New input shapes; (re-)compiling: mode=eval (# of cores 8), [TensorSpec(shape=(53,), dtype=tf.int32, name='core_id_10'), TensorSpec(shape=(53, 500), dtype=tf.int32, name='Input_10'), TensorSpec(shape=(53, 1), dtype=tf.float32, name='Output_target_30')]\n",
            "INFO:tensorflow:Overriding default placeholder.\n",
            "INFO:tensorflow:Remapping placeholder for Input\n",
            "INFO:tensorflow:Started compiling\n",
            "INFO:tensorflow:Finished compiling. Time elapsed: 10.195332527160645 secs\n",
            "25000/25000 [==============================] - 16s 639us/step\n"
          ],
          "name": "stdout"
        },
        {
          "output_type": "execute_result",
          "data": {
            "text/plain": [
              "[0.6991863945388794, 0.8183600006484986]"
            ]
          },
          "metadata": {
            "tags": []
          },
          "execution_count": 11
        }
      ]
    },
    {
      "metadata": {
        "id": "PYCdyFggnKAU",
        "colab_type": "code",
        "outputId": "2e1eb569-0c99-4683-9e1f-cbd3eae738f4",
        "colab": {
          "base_uri": "https://localhost:8080/",
          "height": 50
        }
      },
      "cell_type": "code",
      "source": [
        "tpu_model.evaluate(x_test, y_test, batch_size=128 * 8)"
      ],
      "execution_count": 0,
      "outputs": [
        {
          "output_type": "stream",
          "text": [
            "25000/25000 [==============================] - 1s 47us/step\n"
          ],
          "name": "stdout"
        },
        {
          "output_type": "execute_result",
          "data": {
            "text/plain": [
              "[0.6991863945388794, 0.8183600006484986]"
            ]
          },
          "metadata": {
            "tags": []
          },
          "execution_count": 12
        }
      ]
    },
    {
      "metadata": {
        "id": "CanGKZdUeOKf",
        "colab_type": "code",
        "outputId": "2084391b-e5c4-4f2a-8df6-b28384b4bd65",
        "colab": {
          "base_uri": "https://localhost:8080/",
          "height": 185
        }
      },
      "cell_type": "code",
      "source": [
        "inferencing_model.predict(x_test[:10])> 0.5"
      ],
      "execution_count": 0,
      "outputs": [
        {
          "output_type": "execute_result",
          "data": {
            "text/plain": [
              "array([[False],\n",
              "       [ True],\n",
              "       [ True],\n",
              "       [False],\n",
              "       [ True],\n",
              "       [False],\n",
              "       [False],\n",
              "       [False],\n",
              "       [ True],\n",
              "       [False]])"
            ]
          },
          "metadata": {
            "tags": []
          },
          "execution_count": 13
        }
      ]
    },
    {
      "metadata": {
        "id": "gVeRjm5AeW-w",
        "colab_type": "code",
        "outputId": "1efeaf09-bc32-4362-adb1-300afdb46bbb",
        "colab": {
          "base_uri": "https://localhost:8080/",
          "height": 34
        }
      },
      "cell_type": "code",
      "source": [
        "y_test[:10]"
      ],
      "execution_count": 0,
      "outputs": [
        {
          "output_type": "execute_result",
          "data": {
            "text/plain": [
              "array([0, 1, 1, 0, 1, 1, 1, 0, 0, 1])"
            ]
          },
          "metadata": {
            "tags": []
          },
          "execution_count": 14
        }
      ]
    },
    {
      "metadata": {
        "id": "tIw95Yc0eeeY",
        "colab_type": "code",
        "outputId": "e496f34b-36b8-4e26-d040-dc1941323033",
        "colab": {
          "base_uri": "https://localhost:8080/",
          "height": 218
        }
      },
      "cell_type": "code",
      "source": [
        "tpu_model.predict_on_batch(x_train[:128 * 8])>0.5"
      ],
      "execution_count": 0,
      "outputs": [
        {
          "output_type": "stream",
          "text": [
            "INFO:tensorflow:New input shapes; (re-)compiling: mode=infer (# of cores 8), [TensorSpec(shape=(128, 500), dtype=tf.int32, name='Input_10')]\n",
            "INFO:tensorflow:Overriding default placeholder.\n",
            "INFO:tensorflow:Remapping placeholder for Input\n",
            "INFO:tensorflow:Started compiling\n",
            "INFO:tensorflow:Finished compiling. Time elapsed: 12.261738300323486 secs\n"
          ],
          "name": "stdout"
        },
        {
          "output_type": "execute_result",
          "data": {
            "text/plain": [
              "array([[ True],\n",
              "       [False],\n",
              "       [False],\n",
              "       ...,\n",
              "       [False],\n",
              "       [ True],\n",
              "       [False]])"
            ]
          },
          "metadata": {
            "tags": []
          },
          "execution_count": 15
        }
      ]
    },
    {
      "metadata": {
        "id": "EiQqm2R_DvIV",
        "colab_type": "text"
      },
      "cell_type": "markdown",
      "source": [
        "## Download the trained model weights to your local file system"
      ]
    },
    {
      "metadata": {
        "id": "UzMykUsdDjiD",
        "colab_type": "code",
        "colab": {}
      },
      "cell_type": "code",
      "source": [
        "from google.colab import files\n",
        "\n",
        "files.download('./tpu_model.h5')"
      ],
      "execution_count": 0,
      "outputs": []
    },
    {
      "metadata": {
        "id": "apwRGvwWDnau",
        "colab_type": "code",
        "colab": {}
      },
      "cell_type": "code",
      "source": [
        ""
      ],
      "execution_count": 0,
      "outputs": []
    }
  ]
}