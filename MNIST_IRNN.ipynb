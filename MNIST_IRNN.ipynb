{
  "nbformat": 4,
  "nbformat_minor": 0,
  "metadata": {
    "colab": {
      "name": "MNIST_IRNN.ipynb",
      "version": "0.3.2",
      "provenance": [],
      "include_colab_link": true
    },
    "kernelspec": {
      "name": "python3",
      "display_name": "Python 3"
    }
  },
  "cells": [
    {
      "cell_type": "markdown",
      "metadata": {
        "id": "view-in-github",
        "colab_type": "text"
      },
      "source": [
        "[View in Colaboratory](https://colab.research.google.com/github/atsnguyen/keras/blob/master/MNIST_IRNN.ipynb)"
      ]
    },
    {
      "metadata": {
        "id": "pJ-chWExAkdl",
        "colab_type": "code",
        "colab": {
          "base_uri": "https://localhost:8080/",
          "height": 34
        },
        "outputId": "9d8fdb11-3025-4bdc-990a-4106494ac8d4"
      },
      "cell_type": "code",
      "source": [
        "'''This is a reproduction of the IRNN experiment\n",
        "with pixel-by-pixel sequential MNIST in\n",
        "\"A Simple Way to Initialize Recurrent Networks of Rectified Linear Units\"\n",
        "by Quoc V. Le, Navdeep Jaitly, Geoffrey E. Hinton\n",
        "\n",
        "arxiv:1504.00941v2 [cs.NE] 7 Apr 2015\n",
        "http://arxiv.org/pdf/1504.00941v2.pdf\n",
        "\n",
        "Optimizer is replaced with RMSprop which yields more stable and steady\n",
        "improvement.\n",
        "\n",
        "Reaches 0.93 train/test accuracy after 900 epochs\n",
        "(which roughly corresponds to 1687500 steps in the original paper.)\n",
        "'''\n",
        "\n",
        "from __future__ import print_function\n",
        "\n",
        "import keras\n",
        "from keras.datasets import mnist\n",
        "from keras.models import Sequential\n",
        "from keras.layers import Dense, Activation\n",
        "from keras.layers import SimpleRNN\n",
        "from keras import initializers\n",
        "from keras.optimizers import RMSprop"
      ],
      "execution_count": 1,
      "outputs": [
        {
          "output_type": "stream",
          "text": [
            "Using TensorFlow backend.\n"
          ],
          "name": "stderr"
        }
      ]
    },
    {
      "metadata": {
        "id": "8pLr3BoJA3Mj",
        "colab_type": "code",
        "colab": {}
      },
      "cell_type": "code",
      "source": [
        "batch_size = 32\n",
        "num_classes = 10\n",
        "epochs = 200\n",
        "hidden_units = 100\n",
        "\n",
        "learning_rate = 1e-6\n",
        "clip_norm = 1.0"
      ],
      "execution_count": 0,
      "outputs": []
    },
    {
      "metadata": {
        "id": "zWTo4c1iA8bU",
        "colab_type": "code",
        "colab": {
          "base_uri": "https://localhost:8080/",
          "height": 51
        },
        "outputId": "fe20d906-7df8-4e4b-eb6e-5a41d96f2bba"
      },
      "cell_type": "code",
      "source": [
        "# the data, split between train and test sets\n",
        "(x_train, y_train), (x_test, y_test) = mnist.load_data()"
      ],
      "execution_count": 3,
      "outputs": [
        {
          "output_type": "stream",
          "text": [
            "Downloading data from https://s3.amazonaws.com/img-datasets/mnist.npz\n",
            "11493376/11490434 [==============================] - 3s 0us/step\n"
          ],
          "name": "stdout"
        }
      ]
    },
    {
      "metadata": {
        "id": "MFyrbq-WBDyQ",
        "colab_type": "code",
        "colab": {
          "base_uri": "https://localhost:8080/",
          "height": 68
        },
        "outputId": "79515b20-14b5-4221-a5c1-482f1c1d7604"
      },
      "cell_type": "code",
      "source": [
        "x_train = x_train.reshape(x_train.shape[0], -1, 1)\n",
        "x_test = x_test.reshape(x_test.shape[0], -1, 1)\n",
        "x_train = x_train.astype('float32')\n",
        "x_test = x_test.astype('float32')\n",
        "x_train /= 255\n",
        "x_test /= 255\n",
        "print('x_train shape:', x_train.shape)\n",
        "print(x_train.shape[0], 'train samples')\n",
        "print(x_test.shape[0], 'test samples')"
      ],
      "execution_count": 4,
      "outputs": [
        {
          "output_type": "stream",
          "text": [
            "x_train shape: (60000, 784, 1)\n",
            "60000 train samples\n",
            "10000 test samples\n"
          ],
          "name": "stdout"
        }
      ]
    },
    {
      "metadata": {
        "id": "wwODFISIBNjU",
        "colab_type": "code",
        "colab": {}
      },
      "cell_type": "code",
      "source": [
        "# convert class vectors to binary class matrices\n",
        "y_train = keras.utils.to_categorical(y_train, num_classes)\n",
        "y_test = keras.utils.to_categorical(y_test, num_classes)"
      ],
      "execution_count": 0,
      "outputs": []
    },
    {
      "metadata": {
        "id": "Ih-yDgiJBTKt",
        "colab_type": "code",
        "colab": {
          "base_uri": "https://localhost:8080/",
          "height": 34
        },
        "outputId": "f1db6703-1024-4111-99ee-14c811e8bdcf"
      },
      "cell_type": "code",
      "source": [
        "print('Evaluate IRNN...')\n",
        "model = Sequential()\n",
        "model.add(SimpleRNN(hidden_units,\n",
        "                    kernel_initializer=initializers.RandomNormal(stddev=0.001),\n",
        "                    recurrent_initializer=initializers.Identity(gain=1.0),\n",
        "                    activation='relu',\n",
        "                    input_shape=x_train.shape[1:]))\n",
        "model.add(Dense(num_classes))\n",
        "model.add(Activation('softmax'))\n",
        "rmsprop = RMSprop(lr=learning_rate)"
      ],
      "execution_count": 6,
      "outputs": [
        {
          "output_type": "stream",
          "text": [
            "Evaluate IRNN...\n"
          ],
          "name": "stdout"
        }
      ]
    },
    {
      "metadata": {
        "id": "jo5L4LHlCxPs",
        "colab_type": "code",
        "colab": {}
      },
      "cell_type": "code",
      "source": [
        "model.compile(loss='categorical_crossentropy',\n",
        "              optimizer=rmsprop,\n",
        "              metrics=['accuracy'])"
      ],
      "execution_count": 0,
      "outputs": []
    },
    {
      "metadata": {
        "id": "D23khAFVC2ZT",
        "colab_type": "code",
        "colab": {
          "base_uri": "https://localhost:8080/",
          "height": 136
        },
        "outputId": "cfb3cf65-b7eb-46bc-c38e-4ba1cf2ac5ed"
      },
      "cell_type": "code",
      "source": [
        "model.fit(x_train, y_train,\n",
        "          batch_size=batch_size,\n",
        "          epochs=epochs,\n",
        "          verbose=1,\n",
        "          validation_data=(x_test, y_test))"
      ],
      "execution_count": 0,
      "outputs": [
        {
          "output_type": "stream",
          "text": [
            "Train on 60000 samples, validate on 10000 samples\n",
            "Epoch 1/200\n",
            "60000/60000 [==============================] - 222s 4ms/step - loss: 2.1526 - acc: 0.1956 - val_loss: 2.0013 - val_acc: 0.2446\n",
            "Epoch 2/200\n",
            "60000/60000 [==============================] - 218s 4ms/step - loss: 1.9712 - acc: 0.2561 - val_loss: 1.9539 - val_acc: 0.2630\n",
            "Epoch 3/200\n",
            "51712/60000 [========================>.....] - ETA: 28s - loss: 1.9188 - acc: 0.2859"
          ],
          "name": "stdout"
        }
      ]
    },
    {
      "metadata": {
        "id": "5OJ6uhTkDVFY",
        "colab_type": "code",
        "colab": {}
      },
      "cell_type": "code",
      "source": [
        "scores = model.evaluate(x_test, y_test, verbose=0)\n",
        "print('IRNN test score:', scores[0])\n",
        "print('IRNN test accuracy:', scores[1])"
      ],
      "execution_count": 0,
      "outputs": []
    }
  ]
}